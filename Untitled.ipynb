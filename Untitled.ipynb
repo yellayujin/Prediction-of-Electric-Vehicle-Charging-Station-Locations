{
 "cells": [
  {
   "cell_type": "code",
   "execution_count": 7,
   "id": "e0ae2645-3a13-4ac4-a68c-895436cc8de7",
   "metadata": {},
   "outputs": [
    {
     "name": "stdout",
     "output_type": "stream",
     "text": [
      "Requirement already satisfied: python-dotenv in c:\\users\\skrtk\\anaconda3\\lib\\site-packages (1.0.1)\n",
      "Note: you may need to restart the kernel to use updated packages.\n"
     ]
    }
   ],
   "source": [
    "pip install python-dotenv"
   ]
  },
  {
   "cell_type": "code",
   "execution_count": 11,
   "id": "73a73837-8f62-4884-86dc-c23320f0be91",
   "metadata": {},
   "outputs": [],
   "source": [
    "import os\n",
    "from dotenv import load_dotenv\n",
    "\n",
    "load_dotenv()\n",
    "SERVICE_KEY = os.getenv('CITY_KEY')"
   ]
  },
  {
   "cell_type": "code",
   "execution_count": 12,
   "id": "6c0e600d-166c-4152-9232-46d702723d47",
   "metadata": {},
   "outputs": [
    {
     "name": "stdout",
     "output_type": "stream",
     "text": [
      "6548544e55736b723635616e626f4b\n"
     ]
    }
   ],
   "source": [
    "print(SERVICE_KEY)"
   ]
  },
  {
   "cell_type": "code",
   "execution_count": 13,
   "id": "7170f34a-a3bc-482a-b0d5-f8dca605f79c",
   "metadata": {},
   "outputs": [],
   "source": [
    "URL = f'http://openapi.seoul.go.kr:8088/{SERVICE_KEY}/xml/citydata/1/10/광화문덕수궁' "
   ]
  },
  {
   "cell_type": "code",
   "execution_count": 14,
   "id": "4d287789-5119-40e6-aa4c-eaf1bbcc7e24",
   "metadata": {},
   "outputs": [
    {
     "data": {
      "text/plain": [
       "200"
      ]
     },
     "execution_count": 14,
     "metadata": {},
     "output_type": "execute_result"
    }
   ],
   "source": [
    "import requests\n",
    "import json\n",
    "import pandas as pd\n",
    "\n",
    "req = requests.get(URL)\n",
    "req.status_code     # 200, req만 입력해도 Response 200나오긴 함"
   ]
  },
  {
   "cell_type": "code",
   "execution_count": 18,
   "id": "ec1e6ee4-317e-497e-b415-365cbd27a9f3",
   "metadata": {},
   "outputs": [],
   "source": [
    "import requests\n",
    "from bs4 import BeautifulSoup\n",
    "import pandas as pd\n",
    "\n",
    "req = requests.get(URL)\n",
    "# req.content       # 약간 html과 비슷한 형태로 나옴 \n",
    "soup = BeautifulSoup(req.content, 'lxml')   # soup객체로 바꾸어줘야 진짜 html느낌 됨\n",
    "# print(soup.prettify()) # prettify()가 뭐야?"
   ]
  },
  {
   "cell_type": "code",
   "execution_count": 20,
   "id": "3e7d8573-d861-48e2-ac54-e5e00967be39",
   "metadata": {},
   "outputs": [
    {
     "name": "stdout",
     "output_type": "stream",
     "text": [
      "<html>\n",
      " <body>\n",
      "  <map>\n",
      "   <result.code>\n",
      "    INFO-200\n",
      "   </result.code>\n",
      "   <result.message>\n",
      "    해당하는 데이터가 없습니다\n",
      "   </result.message>\n",
      "  </map>\n",
      " </body>\n",
      "</html>\n",
      "\n"
     ]
    }
   ],
   "source": [
    "print(soup.prettify())"
   ]
  },
  {
   "cell_type": "code",
   "execution_count": null,
   "id": "063857d7-b250-4980-b2de-001b6fed2545",
   "metadata": {},
   "outputs": [],
   "source": [
    "# try 이 부분 로직 정리해보자!\n",
    "\n",
    "col = ['acc_year', 'sgg_cd', 'sgg_nm', 'bjdong_cd', 'land_gbn', 'land_gbn_nm', 'bonbeon', 'bubeon',\n",
    "       'bldg_nm', 'deal_ymd', 'house_type']\n",
    "\n",
    "result_dict = {colname: [] for colname in col}\n",
    "\n",
    "for colname in col:\n",
    "    for tag in soup.find_all(colname):\n",
    "        result_dict[colname].append(tag.text)\n",
    "result = pd.DataFrame(result_dict)\n",
    "result"
   ]
  }
 ],
 "metadata": {
  "kernelspec": {
   "display_name": "Python 3 (ipykernel)",
   "language": "python",
   "name": "python3"
  },
  "language_info": {
   "codemirror_mode": {
    "name": "ipython",
    "version": 3
   },
   "file_extension": ".py",
   "mimetype": "text/x-python",
   "name": "python",
   "nbconvert_exporter": "python",
   "pygments_lexer": "ipython3",
   "version": "3.11.4"
  }
 },
 "nbformat": 4,
 "nbformat_minor": 5
}
